{
 "cells": [
  {
   "cell_type": "markdown",
   "metadata": {
    "nbgrader": {
     "grade": false,
     "grade_id": "cell-26d2d597733f5e80",
     "locked": true,
     "schema_version": 3,
     "solution": false,
     "task": false
    }
   },
   "source": [
    "# Introducción al Deep Learning \n",
    "## Conceptos básicos: Operaciones vectoriales y matriciales\n",
    "\n",
    "### Propósito \n",
    "\n",
    "En el contexto de _Deep Learning_, el álgebra lineal es una herramienta matemática que permite la manipulación de grupos de números simultáneamente a través de operaciones con vectores y matrices. Por ejemplo, las redes neuronales almacenan la información de los pesos del modelo en matrices, por lo que es importante conocer sus operaciones básicas para un entrenamiento y ejecución rápidos y eficientes. También, el uso de vectores y matrices nos permite tratar con grandes volumenes de datos de entrada, como es el caso del procesamiento de imágenes, donde la representación de los pixeles se logra a través de matrices. En este notebook se buscan repasar estas operaciones básicas de álgebra lineal y su aplicación usando la librería _numpy_, donde se revisarán funciones necesarias para el curso."
   ]
  },
  {
   "cell_type": "markdown",
   "metadata": {
    "nbgrader": {
     "grade": false,
     "grade_id": "cell-843f8cdedbdd9d57",
     "locked": true,
     "schema_version": 3,
     "solution": false,
     "task": false
    }
   },
   "source": [
    "### Librerías a importar\n",
    "\n",
    "A continuación se muestran los comandos a ejecutar para poder implementar los procedimientos de este notebook:"
   ]
  },
  {
   "cell_type": "code",
   "execution_count": 1,
   "metadata": {},
   "outputs": [],
   "source": [
    "import numpy as np"
   ]
  },
  {
   "cell_type": "markdown",
   "metadata": {
    "nbgrader": {
     "grade": false,
     "grade_id": "cell-61f9ca2dff483d9a",
     "locked": true,
     "schema_version": 3,
     "solution": false,
     "task": false
    }
   },
   "source": [
    "## Vectores y Matrices\n",
    "Los _vectores_ son arreglos unidimensionales de números, variables o términos. Geométricamente, contienen información sobre la magnitud y dirección de un cambio potencial en un punto. Cuando un vector posee más de una dimensión, se le conoce como una _matriz_. Las matrices más comunes son de dos dimensiones y consisten en un arreglo rectangular de datos, similar a las hojas de cálculo (_spreadsheets_). Entre las formas comunes de representar vectores y matrices, podemos notar las siguientes:\n",
    "$$\n",
    "\\text{Vectores} \\rightarrow \n",
    "\\begin{bmatrix}\n",
    "1 \\\\\n",
    "2 \\\\\n",
    "3\n",
    "\\end{bmatrix}\n",
    "=\n",
    "\\begin{pmatrix}\n",
    "1 \\\\\n",
    "2 \\\\\n",
    "3\n",
    "\\end{pmatrix}\n",
    "=\n",
    "\\begin{Bmatrix}\n",
    "1 \\\\\n",
    "2 \\\\\n",
    "3\n",
    "\\end{Bmatrix}\t\n",
    "=\n",
    "\\begin{vmatrix}\n",
    "1 \\\\\n",
    "2 \\\\\n",
    "3\n",
    "\\end{vmatrix}\n",
    "=\n",
    "\\begin{Vmatrix}\n",
    "1 \\\\\n",
    "2 \\\\\n",
    "3\n",
    "\\end{Vmatrix}\n",
    "$$\n",
    "\n",
    "$$\n",
    "\\text{Matrices} \\rightarrow \n",
    "\\begin{bmatrix}\n",
    "1 & 2 & 3\\\\\n",
    "4 & 5 & 6\n",
    "\\end{bmatrix}\n",
    "=\n",
    "\\begin{pmatrix}\n",
    "1 & 2 & 3\\\\\n",
    "4 & 5 & 6\n",
    "\\end{pmatrix}\n",
    "=\n",
    "\\begin{Bmatrix}\n",
    "1 & 2 & 3\\\\\n",
    "4 & 5 & 6\n",
    "\\end{Bmatrix}\t\n",
    "=\n",
    "\\begin{vmatrix}\n",
    "1 & 2 & 3\\\\\n",
    "4 & 5 & 6\n",
    "\\end{vmatrix}\n",
    "=\n",
    "\\begin{Vmatrix}\n",
    "1 & 2 & 3\\\\\n",
    "4 & 5 & 6\n",
    "\\end{Vmatrix}\n",
    "$$\n",
    "\n",
    "### Dimensiones\n",
    "Las dimensiones se describen en términos del número de filas y columnas que posee una matriz. Esta definición también se extiende a los vectores, que se pueden entender como matrices de una sola fila y varias columnas, o una sola columna y varias filas. Es importante tener claras las dimensiones de una matriz para poder realizar operaciones consistentes entre arreglos de datos. Para conocer la dimensión de un arreglo en _numpy_, se puede usar la extensión _.shape_ después del arreglo, el cual nos dará un vector con las dimensiones del arreglo."
   ]
  },
  {
   "cell_type": "code",
   "execution_count": 2,
   "metadata": {},
   "outputs": [
    {
     "name": "stdout",
     "output_type": "stream",
     "text": [
      "a = [[1 2 3]]\n",
      "Dimensiones de a = (1, 3)\n",
      "b =\n",
      " [[1]\n",
      " [2]\n",
      " [3]]\n",
      "Dimensiones de b = (3, 1)\n",
      "C =\n",
      " [[1 2 3]\n",
      " [4 5 6]]\n",
      "Dimensiones de C = (2, 3)\n"
     ]
    }
   ],
   "source": [
    "a = np.array([\n",
    " [1,2,3]\n",
    "])\n",
    "print(\"a =\", a)\n",
    "print(\"Dimensiones de a =\", a.shape)\n",
    "\n",
    "b = np.array([\n",
    " [1],\n",
    " [2],\n",
    " [3]\n",
    "])\n",
    "print(\"b =\\n\", b)\n",
    "print(\"Dimensiones de b =\", b.shape)\n",
    "\n",
    "C = np.array([\n",
    " [1,2,3],\n",
    " [4,5,6]\n",
    "])\n",
    "print(\"C =\\n\", C)\n",
    "print(\"Dimensiones de C =\", C.shape)"
   ]
  },
  {
   "cell_type": "markdown",
   "metadata": {
    "nbgrader": {
     "grade": false,
     "grade_id": "cell-a43247694e1c4edc",
     "locked": true,
     "schema_version": 3,
     "solution": false,
     "task": false
    }
   },
   "source": [
    "Nótese que el vector $a=[1,2,3]$ tiene dimensiones $(1,3)$, es decir, una fila y tres columnas. El vector $b$ contiene los mismos elementos pero es vertical y tiene tres filas y una columna. Finalmente, la matriz $C$ posee dos filas y tres columnas.\n",
    "\n",
    "### Operaciones con escalares\n",
    "Estas operaciones involucran un arreglo de datos y un número el cual puede sumar, restar, multiplicar o dividir cada uno de los elementos del arreglo. A continuación se ejemplifican varias operaciones para un vector $a$ y una matriz $B$:"
   ]
  },
  {
   "cell_type": "code",
   "execution_count": 3,
   "metadata": {},
   "outputs": [
    {
     "name": "stdout",
     "output_type": "stream",
     "text": [
      "a + 1 =\n",
      " [[2 3 4]]\n",
      "a*3 =\n",
      " [[3 6 9]]\n",
      "B - 2 =\n",
      " [[-1  0  1]\n",
      " [ 2  3  4]]\n",
      "B/2 =\n",
      " [[0.5 1.  1.5]\n",
      " [2.  2.5 3. ]]\n"
     ]
    }
   ],
   "source": [
    "a = np.array([\n",
    " [1,2,3]\n",
    "])\n",
    "print(\"a + 1 =\\n\", a + 1)\n",
    "print(\"a*3 =\\n\", a*3)\n",
    "\n",
    "B = np.array([\n",
    " [1,2,3],\n",
    " [4,5,6]\n",
    "])\n",
    "print(\"B - 2 =\\n\", B - 2)\n",
    "print(\"B/2 =\\n\", B/2)"
   ]
  },
  {
   "cell_type": "markdown",
   "metadata": {
    "nbgrader": {
     "grade": false,
     "grade_id": "cell-3a5904b0b5c2055b",
     "locked": true,
     "schema_version": 3,
     "solution": false,
     "task": false
    }
   },
   "source": [
    "### Operaciones elemento por elemento\n",
    "En este tipo de operaciones, los valores de cada posición de un arreglo se suman, restan o multiplican con los de la misma posición en el otro arreglo. Esto implica que, teóricamente, los vectores y matrices a operar deben tener dimensiones iguales.\n",
    "\n",
    "#### Adición y sustracción\n",
    "$$\n",
    "\\begin{bmatrix}\n",
    "a_1 & a_2\\\\\n",
    "a_3 & a_4\n",
    "\\end{bmatrix}\n",
    "\\pm\n",
    "\\begin{bmatrix}\n",
    "b_1 & b_2\\\\\n",
    "b_3 & b_4\n",
    "\\end{bmatrix}\n",
    "=\n",
    "\\begin{bmatrix}\n",
    "a_1\\pm b_1 & a_2\\pm b_2\\\\\n",
    "a_3\\pm b_3 & a_4\\pm b_4\n",
    "\\end{bmatrix}\n",
    "$$"
   ]
  },
  {
   "cell_type": "code",
   "execution_count": 4,
   "metadata": {},
   "outputs": [
    {
     "name": "stdout",
     "output_type": "stream",
     "text": [
      "a + b =\n",
      " [[2 4]\n",
      " [6 8]]\n",
      "a - b =\n",
      " [[0 0]\n",
      " [0 0]]\n"
     ]
    }
   ],
   "source": [
    "a = np.array([\n",
    " [1,2],\n",
    " [3,4]])\n",
    "b = np.array([\n",
    " [1,2],\n",
    " [3,4]])\n",
    "\n",
    "print(\"a + b =\\n\", a + b)\n",
    "\n",
    "print(\"a - b =\\n\", a - b)"
   ]
  },
  {
   "cell_type": "markdown",
   "metadata": {
    "nbgrader": {
     "grade": false,
     "grade_id": "cell-0783c24b89e76add",
     "locked": true,
     "schema_version": 3,
     "solution": false,
     "task": false
    }
   },
   "source": [
    "#### Producto externo (Hadamard)\n",
    "$$\n",
    "\\begin{bmatrix}\n",
    "a_1 & a_2\\\\\n",
    "a_3 & a_4\n",
    "\\end{bmatrix}\n",
    "\\odot\n",
    "\\begin{bmatrix}\n",
    "b_1 & b_2\\\\\n",
    "b_3 & b_4\n",
    "\\end{bmatrix}\n",
    "=\n",
    "\\begin{bmatrix}\n",
    "a_1\\cdot b_1 & a_2\\cdot b_2\\\\\n",
    "a_3\\cdot b_3 & a_4\\cdot b_4\n",
    "\\end{bmatrix}\n",
    "$$"
   ]
  },
  {
   "cell_type": "code",
   "execution_count": 5,
   "metadata": {},
   "outputs": [
    {
     "name": "stdout",
     "output_type": "stream",
     "text": [
      "Producto de vectores a*b = [ 2  6 12]\n",
      "Producto de matrices X*Y =\n",
      " [[ 6 12]\n",
      " [10 18]]\n"
     ]
    }
   ],
   "source": [
    "a = np.array([1,2,3])\n",
    "b = np.array([2,3,4])\n",
    "print(\"Producto de vectores a*b =\", a * b)\n",
    "\n",
    "X = np.array([\n",
    " [2,3],\n",
    " [2,3]])\n",
    "Y = np.array([\n",
    " [3,4],\n",
    " [5,6]])\n",
    "print(\"Producto de matrices X*Y =\\n\", X * Y)"
   ]
  },
  {
   "cell_type": "markdown",
   "metadata": {},
   "source": [
    "### Producto punto \n",
    "Este tipo de operación algebraica toma dos vectores y retorna un escalar. Sin embargo, puede aplicarse también para matrices, lo que se conoce también como producto matricial. La librería _numpy_ usa la función _np.dot(A,B)_ para operaciones vectoriales y matriciales. Esta operación es una de las más importantes en _deep learning_.\n",
    "\n",
    "#### Vectorial\n",
    "$$\n",
    "\\begin{bmatrix}\n",
    "a_1 & a_2\n",
    "\\end{bmatrix}\n",
    "\\cdot\n",
    "\\begin{bmatrix}\n",
    "b_1\\\\\n",
    "b_2\n",
    "\\end{bmatrix}\n",
    "=\n",
    "a_1b_1+a_2b_2\n",
    "$$"
   ]
  },
  {
   "cell_type": "code",
   "execution_count": 6,
   "metadata": {},
   "outputs": [
    {
     "name": "stdout",
     "output_type": "stream",
     "text": [
      "Producto de punto de vectores x*y = 20\n"
     ]
    }
   ],
   "source": [
    "y = np.array([1,2,3])\n",
    "x = np.array([2,3,4])\n",
    "print(\"Producto de punto de vectores x*y =\", np.dot(y,x))"
   ]
  },
  {
   "cell_type": "markdown",
   "metadata": {
    "nbgrader": {
     "grade": false,
     "grade_id": "cell-0455c3e29c8530a8",
     "locked": true,
     "schema_version": 3,
     "solution": false,
     "task": false
    }
   },
   "source": [
    "#### Matricial\n",
    "En el caso de las matrices, hay que tener en cuenta que no todas las matrices pueden multiplicarse entre sí ya que hay un requerimiento para las dimensiones de las matrices: el número de columnas de la primer matriz debe ser igual al número de filas de la segunda. Como resultado, si multiplicamos una matriz de dimensiones $M\\times N$ por otra matriz $N\\times K$, obtendremos una matriz de tamaño $M\\times K$.\n",
    "$$\n",
    "\\begin{bmatrix}\n",
    "a_1 & a_2\\\\\n",
    "a_3 & a_4\n",
    "\\end{bmatrix}\n",
    "\\cdot\n",
    "\\begin{bmatrix}\n",
    "b_1 & b_2\\\\\n",
    "b_3 & b_4\n",
    "\\end{bmatrix}\n",
    "=\n",
    "\\begin{bmatrix}\n",
    "a_1\\cdot b_1+a_2\\cdot b_3 & a_1\\cdot b_2+a_2\\cdot b_4\\\\\n",
    "a_3\\cdot b_1+a_4\\cdot b_3 & a_3\\cdot b_2+a_4\\cdot b_4\n",
    "\\end{bmatrix}\n",
    "$$"
   ]
  },
  {
   "cell_type": "code",
   "execution_count": 7,
   "metadata": {},
   "outputs": [
    {
     "name": "stdout",
     "output_type": "stream",
     "text": [
      "[[ 8  5]\n",
      " [20 13]]\n",
      "(2, 2)\n"
     ]
    }
   ],
   "source": [
    "A = np.array([\n",
    " [1, 2],\n",
    " [3, 4]\n",
    " ])\n",
    "B = np.array([\n",
    " [4, 3],\n",
    " [2, 1]\n",
    " ])\n",
    "# Multiply\n",
    "mm = np.dot(A,B)\n",
    "print(mm)\n",
    "print(mm.shape)"
   ]
  },
  {
   "cell_type": "markdown",
   "metadata": {},
   "source": [
    "### Transpuesta de una matriz\n",
    "Las redes neuronales procesan frecuentemente pesos y datos de entrada de diferentes tamaños donde las dimensiones no cumplen los requerimientos de la multiplicación de matrices. La transposición de matrices permite rotar una de las matrices (o vectores) de forma que se pueda cumplir con el requerimiento del producto matricial. Para lograr esto, se utiliza la extensión _.T_ al vector o matriz de interés."
   ]
  },
  {
   "cell_type": "code",
   "execution_count": 8,
   "metadata": {},
   "outputs": [
    {
     "name": "stdout",
     "output_type": "stream",
     "text": [
      "Dimensiones de b = (2, 3)\n",
      "Resultado de b transpuesta =\n",
      " [[1 4]\n",
      " [2 5]\n",
      " [3 6]]\n",
      "Dimensiones de b transpuesta = (3, 2)\n"
     ]
    }
   ],
   "source": [
    "b = np.array([\n",
    " [1,2,3],\n",
    " [4,5,6]\n",
    "])\n",
    "print(\"Dimensiones de b =\", b.shape)\n",
    "b_T = b.T\n",
    "print(\"Resultado de b transpuesta =\\n\", b_T)\n",
    "print(\"Dimensiones de b transpuesta =\", b_T.shape)"
   ]
  },
  {
   "cell_type": "markdown",
   "metadata": {
    "nbgrader": {
     "grade": false,
     "grade_id": "cell-e46b75647c5986f1",
     "locked": true,
     "schema_version": 3,
     "solution": false,
     "task": false
    }
   },
   "source": [
    "### Broadcasting en Numpy\n",
    "En _numpy_, los requerimientos de operaciones elemento por elemento son facilitadas a través de un mecanismo llamado _broadcasting_. Mientras que, por ejemplo, para sumar dos matrices se requiere que estas tengan las mismas dimensiones, este mecanismo también permite realizar operaciones con matrices de diferentes dimensiones mientras una de ellas tenga una dimensión de tamaño 1."
   ]
  },
  {
   "cell_type": "code",
   "execution_count": 9,
   "metadata": {},
   "outputs": [
    {
     "name": "stdout",
     "output_type": "stream",
     "text": [
      "[[ 3  4]\n",
      " [10 12]]\n",
      "[[ 3  8]\n",
      " [ 5 12]]\n",
      "[[2 3]\n",
      " [3 4]]\n"
     ]
    }
   ],
   "source": [
    "a = np.array([\n",
    " [1],\n",
    " [2]\n",
    "])\n",
    "b = np.array([\n",
    " [3,4],\n",
    " [5,6]\n",
    "])\n",
    "c = np.array([\n",
    " [1,2]\n",
    "])\n",
    "\n",
    "# Mismo número de filas\n",
    "# Diferente número de columnas\n",
    "# pero a tiene una columna, así que funciona por broadcasting\n",
    "print(a * b)\n",
    "\n",
    "# Mismo número de columnas\n",
    "# Diferente número de filas\n",
    "# pero c tiene una fila, así que funciona por broadcasting\n",
    "print(b * c)\n",
    "\n",
    "# Diferente número de columnas\n",
    "# Diferente número de filas\n",
    "# pero ambos a y c cumplen la regla de una dimensión\n",
    "print(a + c)"
   ]
  }
 ],
 "metadata": {
  "celltoolbar": "Create Assignment",
  "kernelspec": {
   "display_name": "Python 3",
   "language": "python",
   "name": "python3"
  },
  "language_info": {
   "codemirror_mode": {
    "name": "ipython",
    "version": 3
   },
   "file_extension": ".py",
   "mimetype": "text/x-python",
   "name": "python",
   "nbconvert_exporter": "python",
   "pygments_lexer": "ipython3",
   "version": "3.7.6"
  }
 },
 "nbformat": 4,
 "nbformat_minor": 4
}
